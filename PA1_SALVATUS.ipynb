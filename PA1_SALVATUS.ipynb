{
 "cells": [
  {
   "cell_type": "markdown",
   "id": "baa3339c-3e9b-4920-9ec2-f65eccc57e3d",
   "metadata": {},
   "source": [
    "ALPHABET SOUP PROBLEM"
   ]
  },
  {
   "cell_type": "code",
   "execution_count": 8,
   "id": "5283d4b1-cf06-4be7-b371-1b51dfff10a5",
   "metadata": {},
   "outputs": [],
   "source": [
    "def alphabet_soup(jhoram):\n",
    "    return'' .join(sorted(jhoram))"
   ]
  },
  {
   "cell_type": "code",
   "execution_count": 10,
   "id": "156dddb2-9706-473a-a4a6-5b5ba641ff17",
   "metadata": {},
   "outputs": [
    {
     "name": "stdout",
     "output_type": "stream",
     "text": [
      "ahjmor\n"
     ]
    }
   ],
   "source": [
    "print(alphabet_soup(\"jhoram\"))"
   ]
  },
  {
   "cell_type": "code",
   "execution_count": 14,
   "id": "8957e11e-ad99-4bc3-95d9-bb3fc2d59dcc",
   "metadata": {},
   "outputs": [],
   "source": [
    "def alphabet_soup(ascorbate):\n",
    "    letters = list(ascorbate)\n",
    "    letters.sort()\n",
    "    return ''.join(letters)"
   ]
  },
  {
   "cell_type": "code",
   "execution_count": 15,
   "id": "a351ff80-532b-47bd-9468-255943ecf88d",
   "metadata": {},
   "outputs": [
    {
     "name": "stdout",
     "output_type": "stream",
     "text": [
      "aabceorst\n"
     ]
    }
   ],
   "source": [
    "print(alphabet_soup(\"ascorbate\"))"
   ]
  },
  {
   "cell_type": "markdown",
   "id": "a5c7e4f1-ab02-4a78-8a33-886378d17457",
   "metadata": {},
   "source": [
    "EMOTICON PROBLEM"
   ]
  },
  {
   "cell_type": "code",
   "execution_count": 20,
   "id": "01bb87ae-a839-4a30-a40b-7433c16e30ac",
   "metadata": {},
   "outputs": [
    {
     "name": "stdout",
     "output_type": "stream",
     "text": [
      "You are making me :)\n",
      "I am always >:(\n",
      "You are making me :D\n",
      "I am always :((\n"
     ]
    }
   ],
   "source": [
    "def emotify(sentence):\n",
    "    replacements = {\n",
    "        \"smile\":\":)\",\n",
    "        \"grin\":\":D\",\n",
    "        \"sad\":\":((\",\n",
    "        \"mad\":\">:(\"\n",
    "    }\n",
    "    words = sentence.split()\n",
    "    result = [replacements.get(word.lower(), word) for word in words]\n",
    "    return ' '.join(result)\n",
    "    \n",
    "print(emotify(\"You are making me smile\"))\n",
    "print(emotify(\"I am always mad\"))\n",
    "print(emotify(\"You are making me grin\"))\n",
    "print(emotify(\"I am always sad\"))"
   ]
  },
  {
   "cell_type": "markdown",
   "id": "09828799-61b7-4ed6-854e-eb8aa5785496",
   "metadata": {},
   "source": [
    "UNPACKING LIST PROBLEM"
   ]
  },
  {
   "cell_type": "code",
   "execution_count": 23,
   "id": "32ff359e-2a1f-48df-97af-13558b181534",
   "metadata": {},
   "outputs": [
    {
     "name": "stdout",
     "output_type": "stream",
     "text": [
      "First: 1  Middle: [2, 3, 4, 5]  Last: 6\n"
     ]
    }
   ],
   "source": [
    "lst=[1,2,3,4,5,6]\n",
    "first, *middle, last = lst\n",
    "print(f\"First: {first}  Middle: {middle}  Last: {last}\")"
   ]
  },
  {
   "cell_type": "code",
   "execution_count": null,
   "id": "f840876c-3c41-4832-9a84-6129e2404113",
   "metadata": {},
   "outputs": [],
   "source": []
  }
 ],
 "metadata": {
  "kernelspec": {
   "display_name": "Python [conda env:base] *",
   "language": "python",
   "name": "conda-base-py"
  },
  "language_info": {
   "codemirror_mode": {
    "name": "ipython",
    "version": 3
   },
   "file_extension": ".py",
   "mimetype": "text/x-python",
   "name": "python",
   "nbconvert_exporter": "python",
   "pygments_lexer": "ipython3",
   "version": "3.13.5"
  }
 },
 "nbformat": 4,
 "nbformat_minor": 5
}
